{
  "nbformat": 4,
  "nbformat_minor": 0,
  "metadata": {
    "colab": {
      "name": "Backtracking.ipynb",
      "provenance": [],
      "collapsed_sections": [],
      "mount_file_id": "1BiiDQU6LWL1ZjLeRzwtM8IkL9RLILRLV",
      "authorship_tag": "ABX9TyNzA6jO/GQIqpjMyz6hvJpj",
      "include_colab_link": true
    },
    "kernelspec": {
      "name": "python3",
      "display_name": "Python 3"
    },
    "language_info": {
      "name": "python"
    }
  },
  "cells": [
    {
      "cell_type": "markdown",
      "metadata": {
        "id": "view-in-github",
        "colab_type": "text"
      },
      "source": [
        "<a href=\"https://colab.research.google.com/github/Taylor-X01/Optimization-Algorithms/blob/main_project/Backtracking.ipynb\" target=\"_parent\"><img src=\"https://colab.research.google.com/assets/colab-badge.svg\" alt=\"Open In Colab\"/></a>"
      ]
    },
    {
      "cell_type": "code",
      "metadata": {
        "id": "5nPlhKv9zd1P"
      },
      "source": [
        "import numpy as np\n",
        "from scipy.misc import derivative\n",
        "import matplotlib.pyplot as plt\n",
        "%matplotlib inline\n",
        "\n",
        "dx = 1e-6"
      ],
      "execution_count": 9,
      "outputs": []
    },
    {
      "cell_type": "code",
      "metadata": {
        "id": "SCHv8wYOz4wB"
      },
      "source": [
        "def phi(alpha):\n",
        "    return (alpha ** 3) + 3 * (alpha ** 2) - 1\n",
        "\n",
        "x = np.linspace(-1, 1, 1000)\n",
        "y = phi(x)"
      ],
      "execution_count": 15,
      "outputs": []
    },
    {
      "cell_type": "code",
      "metadata": {
        "id": "U4XX8mvjz67g"
      },
      "source": [
        "def armijo(phi, m=0.2, alpha_0=1):\n",
        "    alpha = alpha_0\n",
        "    \n",
        "    while phi(alpha) <= phi(0) + m * alpha * derivative(phi, 0, dx=dx):\n",
        "        alpha = 2 * alpha\n",
        "\n",
        "    while phi(alpha) > phi(0) + m * alpha * derivative(phi, 0, dx=dx):\n",
        "        alpha = alpha / 2\n",
        "\n",
        "    return alpha"
      ],
      "execution_count": 11,
      "outputs": []
    },
    {
      "cell_type": "code",
      "metadata": {
        "colab": {
          "base_uri": "https://localhost:8080/",
          "height": 281
        },
        "id": "q6Finph6z9x6",
        "outputId": "21f2f890-e0b4-4094-de31-f3b058b4c4a5"
      },
      "source": [
        "plt.title('Armijo method')\n",
        "x_sol = armijo(phi)\n",
        "y_sol = phi(x_sol)\n",
        "plt.plot(x, y, 'g')\n",
        "plt.plot(x_sol, y_sol, 'bo')\n",
        "plt.show()"
      ],
      "execution_count": 16,
      "outputs": [
        {
          "output_type": "display_data",
          "data": {
            "image/png": "[encoded data removed]",
            "text/plain": [
              "<Figure size 432x288 with 1 Axes>"
            ]
          },
          "metadata": {
            "tags": [],
            "needs_background": "light"
          }
        }
      ]
    },
    {
      "cell_type": "code",
      "metadata": {
        "id": "P2LmzdDYz_7I"
      },
      "source": [
        "def goldstein(phi, m=0.2, alpha_0=1, t=2):\n",
        "    alpha = alpha_0\n",
        "    a = 0\n",
        "    b = np.inf\n",
        "\n",
        "    while True:\n",
        "        if phi(alpha) <= phi(0) + m * alpha * derivative(phi, 0, dx=dx):\n",
        "            if phi(alpha) >= phi(0) + (1 - m) * alpha * derivative(phi, 0, dx=dx):\n",
        "                return alpha\n",
        "            a = alpha \n",
        "            if b < np.inf:\n",
        "                alpha = (a + b) / 2\n",
        "            else:\n",
        "                alpha = t * alpha\n",
        "        else:\n",
        "            b = alpha\n",
        "            alpha = (a + b) / 2"
      ],
      "execution_count": 13,
      "outputs": []
    },
    {
      "cell_type": "code",
      "metadata": {
        "colab": {
          "base_uri": "https://localhost:8080/",
          "height": 281
        },
        "id": "8lOb3-dT0B9V",
        "outputId": "7914346c-e3ea-46ab-f74f-2286e904710c"
      },
      "source": [
        "plt.title('Goldstein method')\n",
        "x_sol = goldstein(phi)\n",
        "y_sol = phi(x_sol)\n",
        "plt.plot(x, y, 'g')\n",
        "plt.plot(x_sol, y_sol, 'bo')\n",
        "plt.show()"
      ],
      "execution_count": 17,
      "outputs": [
        {
          "output_type": "display_data",
          "data": {
            "image/png": "[encoded data removed]",
            "text/plain": [
              "<Figure size 432x288 with 1 Axes>"
            ]
          },
          "metadata": {
            "tags": [],
            "needs_background": "light"
          }
        }
      ]
    },
    {
      "cell_type": "code",
      "metadata": {
        "id": "c8q6iQ2LDq8u"
      },
      "source": [
        "def wolfe(phi, m=0.2, alpha_0=1)"
      ],
      "execution_count": null,
      "outputs": []
    }
  ]
}