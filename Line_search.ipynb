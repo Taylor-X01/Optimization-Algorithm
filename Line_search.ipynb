{
  "nbformat": 4,
  "nbformat_minor": 0,
  "metadata": {
    "colab": {
      "name": "Line search.ipynb",
      "provenance": [],
      "collapsed_sections": [],
      "authorship_tag": "ABX9TyNB5owKgCYjmFxtN+wNfDRt",
      "include_colab_link": true
    },
    "kernelspec": {
      "name": "python3",
      "display_name": "Python 3"
    },
    "language_info": {
      "name": "python"
    }
  },
  "cells": [
    {
      "cell_type": "markdown",
      "metadata": {
        "id": "view-in-github",
        "colab_type": "text"
      },
      "source": [
        "<a href=\"https://colab.research.google.com/github/Taylor-X01/Optimization-Algorithms/blob/main_project/Line_search.ipynb\" target=\"_parent\"><img src=\"https://colab.research.google.com/assets/colab-badge.svg\" alt=\"Open In Colab\"/></a>"
      ]
    },
    {
      "cell_type": "code",
      "metadata": {
        "id": "Q82AxTTOvQYP"
      },
      "source": [
        "import numpy as np\n",
        "import pandas as pd\n",
        "from matplotlib import pyplot"
      ],
      "execution_count": 2,
      "outputs": []
    },
    {
      "cell_type": "markdown",
      "metadata": {
        "id": "O64d9EmYx-1D"
      },
      "source": [
        "## Bissection Method"
      ]
    },
    {
      "cell_type": "markdown",
      "metadata": {
        "id": "1VPCHIzy2BID"
      },
      "source": [
        "$$\n",
        "Let\\ f:\\mathbb{R}\\rightarrow\\mathbb{R}\\ and\\ a<b \\in\\mathbb{R} : f'(a) \\times f'(b)<0\\\\\n",
        "r\n",
        "$$"
      ]
    },
    {
      "cell_type": "code",
      "metadata": {
        "id": "QoUWbvxHx9yk"
      },
      "source": [
        ""
      ],
      "execution_count": null,
      "outputs": []
    },
    {
      "cell_type": "markdown",
      "metadata": {
        "id": "NRaTakwozbeR"
      },
      "source": [
        "## Secant Method"
      ]
    },
    {
      "cell_type": "code",
      "metadata": {
        "id": "-Hg065z2zkXl"
      },
      "source": [
        ""
      ],
      "execution_count": null,
      "outputs": []
    },
    {
      "cell_type": "markdown",
      "metadata": {
        "id": "HVOfDRm3yDHj"
      },
      "source": [
        "## Newton-Raphson Method"
      ]
    },
    {
      "cell_type": "markdown",
      "metadata": {
        "id": "lMpfWSUf0FyX"
      },
      "source": [
        "$$\n",
        "Newton's\\ Method\\ :\\ x_{k+1}=x_{k}-\\frac{f(x_k)}{f'(x_k)}\\\\\n",
        "To\\ find\\ the\\ minimal\\ point\\ of\\ the\\ function\\ f:\\mathbb{R}\\rightarrow \\mathbb{R}\\\\\n",
        "x_{k+1}=x_{k}-\\frac{f'(x_k)}{f''(x_k)}\n",
        "$$"
      ]
    },
    {
      "cell_type": "code",
      "metadata": {
        "id": "nAnjO0TxyGit"
      },
      "source": [
        ""
      ],
      "execution_count": null,
      "outputs": []
    },
    {
      "cell_type": "markdown",
      "metadata": {
        "id": "AkAMDnCmyG88"
      },
      "source": [
        "## False Position Method - Regula Falsi"
      ]
    },
    {
      "cell_type": "code",
      "metadata": {
        "id": "wic4AXoSyeNV"
      },
      "source": [
        ""
      ],
      "execution_count": null,
      "outputs": []
    }
  ]
}